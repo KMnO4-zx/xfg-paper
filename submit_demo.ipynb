{
 "cells": [
  {
   "cell_type": "markdown",
   "id": "f9bd6e39-ede7-4375-b5c6-67cadea12e93",
   "metadata": {},
   "source": [
    "# 微调大模型:ChatGLM2-6B 进行二分类任务"
   ]
  },
  {
   "cell_type": "markdown",
   "id": "4c51c09f-f527-43c9-a8b5-e2f874706003",
   "metadata": {},
   "source": [
    "## 导入数据"
   ]
  },
  {
   "cell_type": "code",
   "execution_count": 1,
   "id": "bb645733",
   "metadata": {
    "execution": {
     "iopub.execute_input": "2023-08-08T11:11:25.796898Z",
     "iopub.status.busy": "2023-08-08T11:11:25.796172Z",
     "iopub.status.idle": "2023-08-08T11:11:27.128106Z",
     "shell.execute_reply": "2023-08-08T11:11:27.127108Z",
     "shell.execute_reply.started": "2023-08-08T11:11:25.796863Z"
    },
    "tags": []
   },
   "outputs": [],
   "source": [
    "import pandas as pd"
   ]
  },
  {
   "cell_type": "code",
   "execution_count": 2,
   "id": "b1248555",
   "metadata": {
    "ExecutionIndicator": {
     "show": true
    },
    "execution": {
     "iopub.execute_input": "2023-08-08T11:11:28.289572Z",
     "iopub.status.busy": "2023-08-08T11:11:28.288635Z",
     "iopub.status.idle": "2023-08-08T11:11:28.508543Z",
     "shell.execute_reply": "2023-08-08T11:11:28.507784Z",
     "shell.execute_reply.started": "2023-08-08T11:11:28.289541Z"
    },
    "tags": []
   },
   "outputs": [],
   "source": [
    "train_df = pd.read_csv('./csv_data/train.csv')\n",
    "testB_df = pd.read_csv('./csv_data/testB.csv')"
   ]
  },
  {
   "cell_type": "code",
   "execution_count": 3,
   "id": "6839b8ac",
   "metadata": {
    "execution": {
     "iopub.execute_input": "2023-08-08T11:11:30.617472Z",
     "iopub.status.busy": "2023-08-08T11:11:30.616755Z",
     "iopub.status.idle": "2023-08-08T11:11:30.643278Z",
     "shell.execute_reply": "2023-08-08T11:11:30.642587Z",
     "shell.execute_reply.started": "2023-08-08T11:11:30.617440Z"
    },
    "tags": []
   },
   "outputs": [
    {
     "name": "stdout",
     "output_type": "stream",
     "text": [
      "<class 'pandas.core.frame.DataFrame'>\n",
      "RangeIndex: 6000 entries, 0 to 5999\n",
      "Data columns (total 6 columns):\n",
      " #   Column    Non-Null Count  Dtype \n",
      "---  ------    --------------  ----- \n",
      " 0   uuid      6000 non-null   int64 \n",
      " 1   title     6000 non-null   object\n",
      " 2   author    6000 non-null   object\n",
      " 3   abstract  6000 non-null   object\n",
      " 4   Keywords  6000 non-null   object\n",
      " 5   label     6000 non-null   int64 \n",
      "dtypes: int64(2), object(4)\n",
      "memory usage: 281.4+ KB\n"
     ]
    }
   ],
   "source": [
    "train_df.info()"
   ]
  },
  {
   "cell_type": "markdown",
   "id": "f50fe438-88f2-4506-b738-c86fa54c0e4e",
   "metadata": {},
   "source": [
    "## 制作数据集"
   ]
  },
  {
   "cell_type": "code",
   "execution_count": 4,
   "id": "a69b8730",
   "metadata": {
    "ExecutionIndicator": {
     "show": true
    },
    "execution": {
     "iopub.execute_input": "2023-08-08T11:11:36.606825Z",
     "iopub.status.busy": "2023-08-08T11:11:36.606101Z",
     "iopub.status.idle": "2023-08-08T11:11:37.070426Z",
     "shell.execute_reply": "2023-08-08T11:11:37.069655Z",
     "shell.execute_reply.started": "2023-08-08T11:11:36.606785Z"
    },
    "tags": []
   },
   "outputs": [],
   "source": [
    "res = []\n",
    "\n",
    "for i in range(len(train_df)):\n",
    "    paper_item = train_df.loc[i]\n",
    "    tmp = {\n",
    "    \"instruction\": \"Please judge whether it is a medical field paper according to the given paper title and abstract, output 1 or 0, the following is the paper title and abstract -->\",\n",
    "    \"input\": f\"title:{paper_item[1]},abstract:{paper_item[3]}\",\n",
    "    \"output\": str(paper_item[5])\n",
    "  }\n",
    "    res.append(tmp)"
   ]
  },
  {
   "cell_type": "code",
   "execution_count": 5,
   "id": "ba3b5176",
   "metadata": {
    "ExecutionIndicator": {
     "show": true
    },
    "execution": {
     "iopub.execute_input": "2023-08-08T11:11:39.117303Z",
     "iopub.status.busy": "2023-08-08T11:11:39.116563Z",
     "iopub.status.idle": "2023-08-08T11:11:39.240619Z",
     "shell.execute_reply": "2023-08-08T11:11:39.239876Z",
     "shell.execute_reply.started": "2023-08-08T11:11:39.117269Z"
    },
    "tags": []
   },
   "outputs": [],
   "source": [
    "import json\n",
    "\n",
    "with open('./data/paper_label.json', mode='w', encoding='utf-8') as f:\n",
    "    json.dump(res, f, ensure_ascii=False, indent=4)"
   ]
  },
  {
   "cell_type": "markdown",
   "id": "f1b69623-b1fa-4824-93a9-cb47e3f89361",
   "metadata": {},
   "source": [
    "## 微调chatglm2-6b"
   ]
  },
  {
   "cell_type": "markdown",
   "id": "180c8b99-68b5-44f4-8fe0-b7fdd1715235",
   "metadata": {},
   "source": [
    "- 首先需要clone微调脚本：`git clone https://github.com/LLLM-Lab/xfg-paper.git`\n",
    "- 进入目录安装环境：`cd ./xfg-paper`；`pip install -r requirements.txt `\n",
    "- 将脚本中的`model_name_or_path`更换为你本地的chatglm2-6b模型路径，然后运行脚本：`sh xfg_train.sh`\n",
    "\n",
    "微调过程大概需要两个小时（我使用了阿里云A10-24G运行了两个小时左右），微调过程需要16G的显存，推荐使用24G显存的显卡，比如3090，4090等。\n",
    "\n",
    "当然，我已经把训练好的lora权重放在了仓库里，您可以直接运行下面的代码。"
   ]
  },
  {
   "cell_type": "markdown",
   "id": "07e082ca-8039-418b-a294-e2eda89d3c1b",
   "metadata": {},
   "source": [
    "## 加载训练好的LoRA权重，进行预测"
   ]
  },
  {
   "cell_type": "code",
   "execution_count": 6,
   "id": "18c992d2-bdd4-4a80-9532-6497682983ea",
   "metadata": {
    "ExecutionIndicator": {
     "show": true
    },
    "execution": {
     "iopub.execute_input": "2023-08-08T11:11:57.083287Z",
     "iopub.status.busy": "2023-08-08T11:11:57.082565Z",
     "iopub.status.idle": "2023-08-08T11:13:27.493466Z",
     "shell.execute_reply": "2023-08-08T11:13:27.492641Z",
     "shell.execute_reply.started": "2023-08-08T11:11:57.083256Z"
    },
    "tags": []
   },
   "outputs": [
    {
     "name": "stderr",
     "output_type": "stream",
     "text": [
      "Explicitly passing a `revision` is encouraged when loading a configuration with custom code to ensure no malicious code has been contributed in a newer revision.\n",
      "Explicitly passing a `revision` is encouraged when loading a model with custom code to ensure no malicious code has been contributed in a newer revision.\n"
     ]
    },
    {
     "data": {
      "application/vnd.jupyter.widget-view+json": {
       "model_id": "e79101cfe6af428d93fce60d91c6bd5e",
       "version_major": 2,
       "version_minor": 0
      },
      "text/plain": [
       "Loading checkpoint shards:   0%|          | 0/7 [00:00<?, ?it/s]"
      ]
     },
     "metadata": {},
     "output_type": "display_data"
    },
    {
     "name": "stderr",
     "output_type": "stream",
     "text": [
      "Explicitly passing a `revision` is encouraged when loading a model with custom code to ensure no malicious code has been contributed in a newer revision.\n"
     ]
    },
    {
     "data": {
      "text/plain": [
       "'你好👋！我是人工智能助手 ChatGLM2-6B，很高兴见到你，欢迎问我任何问题。'"
      ]
     },
     "execution_count": 6,
     "metadata": {},
     "output_type": "execute_result"
    }
   ],
   "source": [
    "from peft import PeftModel\n",
    "from transformers import AutoTokenizer, AutoModel, GenerationConfig, AutoModelForCausalLM\n",
    "\n",
    "model_path = \"../chatglm2-6b\"\n",
    "model = AutoModel.from_pretrained(model_path, trust_remote_code=True).half().cuda()\n",
    "tokenizer = AutoTokenizer.from_pretrained(model_path, trust_remote_code=True)\n",
    "# 加载 label lora权重\n",
    "model = PeftModel.from_pretrained(model, './output/label_xfg').half()\n",
    "model = model.eval()\n",
    "response, history = model.chat(tokenizer, \"你好\", history=[])\n",
    "response"
   ]
  },
  {
   "cell_type": "code",
   "execution_count": 7,
   "id": "af5bb46b-4f17-4925-a8cb-959411bd9287",
   "metadata": {
    "ExecutionIndicator": {
     "show": true
    },
    "execution": {
     "iopub.execute_input": "2023-08-08T11:13:46.175784Z",
     "iopub.status.busy": "2023-08-08T11:13:46.174885Z",
     "iopub.status.idle": "2023-08-08T11:13:46.180149Z",
     "shell.execute_reply": "2023-08-08T11:13:46.179230Z",
     "shell.execute_reply.started": "2023-08-08T11:13:46.175750Z"
    },
    "tags": []
   },
   "outputs": [],
   "source": [
    "# 预测函数\n",
    "\n",
    "def predict(text):\n",
    "    response, history = model.chat(tokenizer, f\"Please judge whether it is a medical field paper according to the given paper title and abstract, output 1 or 0, the following is the paper title, author and abstract -->{text}\", history=[],\n",
    "    temperature=0.01)\n",
    "    return response"
   ]
  },
  {
   "cell_type": "code",
   "execution_count": 8,
   "id": "9be0c2fe-0538-4675-8c68-a7b56dd4f351",
   "metadata": {
    "ExecutionIndicator": {
     "show": true
    },
    "execution": {
     "iopub.execute_input": "2023-08-08T11:13:48.341147Z",
     "iopub.status.busy": "2023-08-08T11:13:48.340282Z",
     "iopub.status.idle": "2023-08-08T11:13:48.550943Z",
     "shell.execute_reply": "2023-08-08T11:13:48.550096Z",
     "shell.execute_reply.started": "2023-08-08T11:13:48.341113Z"
    },
    "tags": []
   },
   "outputs": [
    {
     "data": {
      "text/plain": [
       "'1'"
      ]
     },
     "execution_count": 8,
     "metadata": {},
     "output_type": "execute_result"
    }
   ],
   "source": [
    "predict('title:Seizure Detection and Prediction by Parallel Memristive Convolutional Neural Networks,author:Li, Chenqi; Lammie, Corey; Dong, Xuening; Amirsoleimani, Amirali; Azghadi, Mostafa Rahimi; Genov, Roman,abstract:During the past two decades, epileptic seizure detection and prediction algorithms have evolved rapidly. However, despite significant performance improvements, their hardware implementation using conventional technologies, such as Complementary Metal-Oxide-Semiconductor (CMOS), in power and areaconstrained settings remains a challenging task; especially when many recording channels are used. In this paper, we propose a novel low-latency parallel Convolutional Neural Network (CNN) architecture that has between 2-2,800x fewer network parameters compared to State-Of-The-Art (SOTA) CNN architectures and achieves 5-fold cross validation accuracy of 99.84% for epileptic seizure detection, and 99.01% and 97.54% for epileptic seizure prediction, when evaluated using the University of Bonn Electroencephalogram (EEG), CHB-MIT and SWEC-ETHZ seizure datasets, respectively. We subsequently implement our network onto analog crossbar arrays comprising Resistive Random-Access Memory (RRAM) devices, and provide a comprehensive benchmark by simulating, laying out, and determining hardware requirements of theCNNcomponent of our system. We parallelize the execution of convolution layer kernels on separate analog crossbars to enable 2 orders of magnitude reduction in latency compared to SOTA hybrid Memristive-CMOS Deep Learning (DL) accelerators. Furthermore, we investigate the effects of non-idealities on our system and investigate Quantization Aware Training (QAT) to mitigate the performance degradation due to lowAnalog-to-Digital Converter (ADC)/Digital-to-Analog Converter (DAC) resolution. Finally, we propose a stuck weight offsetting methodology to mitigate performance degradation due to stuck RON/ROFF memristor weights, recovering up to 32% accuracy, without requiring retraining. The CNN component of our platform is estimated to consume approximately 2.791Wof power while occupying an area of 31.255 mm(2) in a 22 nm FDSOI CMOS process.')"
   ]
  },
  {
   "cell_type": "code",
   "execution_count": 9,
   "id": "facc2fe1-fb75-4246-af65-d642fa5701c3",
   "metadata": {
    "ExecutionIndicator": {
     "show": true
    },
    "execution": {
     "iopub.execute_input": "2023-08-08T11:13:52.936633Z",
     "iopub.status.busy": "2023-08-08T11:13:52.935904Z",
     "iopub.status.idle": "2023-08-08T11:19:43.749971Z",
     "shell.execute_reply": "2023-08-08T11:19:43.749161Z",
     "shell.execute_reply.started": "2023-08-08T11:13:52.936584Z"
    },
    "tags": []
   },
   "outputs": [
    {
     "name": "stderr",
     "output_type": "stream",
     "text": [
      "100%|██████████| 2000/2000 [05:50<00:00,  5.70it/s]\n"
     ]
    }
   ],
   "source": [
    "# 预测测试集\n",
    "\n",
    "from tqdm import tqdm\n",
    "\n",
    "label = []\n",
    "\n",
    "for i in tqdm(range(len(testB_df))):\n",
    "    test_item = testB_df.loc[i]\n",
    "    test_input = f\"title:{test_item[1]},author:{test_item[2]},abstract:{test_item[3]}\"\n",
    "    label.append(int(predict(test_input)))\n"
   ]
  },
  {
   "cell_type": "code",
   "execution_count": 15,
   "id": "03932b51-6417-4a83-8754-dcb73e5a3051",
   "metadata": {
    "ExecutionIndicator": {
     "show": true
    },
    "execution": {
     "iopub.execute_input": "2023-08-08T12:56:26.958019Z",
     "iopub.status.busy": "2023-08-08T12:56:26.957255Z",
     "iopub.status.idle": "2023-08-08T12:56:26.963428Z",
     "shell.execute_reply": "2023-08-08T12:56:26.962704Z",
     "shell.execute_reply.started": "2023-08-08T12:56:26.957986Z"
    },
    "tags": []
   },
   "outputs": [],
   "source": [
    "testB_df['label'] = label\n",
    "testB_df['Keywords'] = ['tmp' for _ in range(2000)]"
   ]
  },
  {
   "cell_type": "code",
   "execution_count": 16,
   "id": "b85584e5-d4e3-493c-b5fb-843412c4dd1d",
   "metadata": {
    "execution": {
     "iopub.execute_input": "2023-08-08T12:56:29.014017Z",
     "iopub.status.busy": "2023-08-08T12:56:29.013295Z",
     "iopub.status.idle": "2023-08-08T12:56:29.026176Z",
     "shell.execute_reply": "2023-08-08T12:56:29.025349Z",
     "shell.execute_reply.started": "2023-08-08T12:56:29.013985Z"
    },
    "tags": []
   },
   "outputs": [
    {
     "data": {
      "text/html": [
       "<div>\n",
       "<style scoped>\n",
       "    .dataframe tbody tr th:only-of-type {\n",
       "        vertical-align: middle;\n",
       "    }\n",
       "\n",
       "    .dataframe tbody tr th {\n",
       "        vertical-align: top;\n",
       "    }\n",
       "\n",
       "    .dataframe thead th {\n",
       "        text-align: right;\n",
       "    }\n",
       "</style>\n",
       "<table border=\"1\" class=\"dataframe\">\n",
       "  <thead>\n",
       "    <tr style=\"text-align: right;\">\n",
       "      <th></th>\n",
       "      <th>uuid</th>\n",
       "      <th>title</th>\n",
       "      <th>author</th>\n",
       "      <th>abstract</th>\n",
       "      <th>label</th>\n",
       "      <th>Keywords</th>\n",
       "    </tr>\n",
       "  </thead>\n",
       "  <tbody>\n",
       "    <tr>\n",
       "      <th>0</th>\n",
       "      <td>0</td>\n",
       "      <td>Tobacco Consumption and High-Sensitivity Cardi...</td>\n",
       "      <td>Julia Brox Skranes,Magnus Nakrem Lyngbakken,Kr...</td>\n",
       "      <td>Background Cardiac troponins represent a sensi...</td>\n",
       "      <td>1</td>\n",
       "      <td>tmp</td>\n",
       "    </tr>\n",
       "    <tr>\n",
       "      <th>1</th>\n",
       "      <td>1</td>\n",
       "      <td>Approaching towards sustainable supply chain u...</td>\n",
       "      <td>Mohammad Reza Seddigh,Sajjad Shokouhyar,Fateme...</td>\n",
       "      <td>These two main objectives of this study are to...</td>\n",
       "      <td>1</td>\n",
       "      <td>tmp</td>\n",
       "    </tr>\n",
       "    <tr>\n",
       "      <th>2</th>\n",
       "      <td>2</td>\n",
       "      <td>Does globalization matter for ecological footp...</td>\n",
       "      <td>Kirikkaleli, Dervis; Adebayo, Tomiwa Sunday; K...</td>\n",
       "      <td>The main aim of this paper is to explore the r...</td>\n",
       "      <td>0</td>\n",
       "      <td>tmp</td>\n",
       "    </tr>\n",
       "    <tr>\n",
       "      <th>3</th>\n",
       "      <td>3</td>\n",
       "      <td>Myths and Misconceptions About University Stud...</td>\n",
       "      <td>Megan Paull,Kirsten Holmes,Maryam Omari,Debbie...</td>\n",
       "      <td>This paper examines myths and misconceptions a...</td>\n",
       "      <td>1</td>\n",
       "      <td>tmp</td>\n",
       "    </tr>\n",
       "    <tr>\n",
       "      <th>4</th>\n",
       "      <td>4</td>\n",
       "      <td>Antioxidant Status of Rat Liver Mitochondria u...</td>\n",
       "      <td>S I Khizrieva,R A Khalilov,A M Dzhafarova,V R ...</td>\n",
       "      <td>For evaluation of the contribution of the anti...</td>\n",
       "      <td>1</td>\n",
       "      <td>tmp</td>\n",
       "    </tr>\n",
       "    <tr>\n",
       "      <th>...</th>\n",
       "      <td>...</td>\n",
       "      <td>...</td>\n",
       "      <td>...</td>\n",
       "      <td>...</td>\n",
       "      <td>...</td>\n",
       "      <td>...</td>\n",
       "    </tr>\n",
       "    <tr>\n",
       "      <th>1995</th>\n",
       "      <td>1995</td>\n",
       "      <td>The treatment of veterinary antibiotics in swi...</td>\n",
       "      <td>Qian, Mengcheng; Yang, Linyan; Chen, Xingkui; ...</td>\n",
       "      <td>Elevated concentrations and potential toxiciti...</td>\n",
       "      <td>0</td>\n",
       "      <td>tmp</td>\n",
       "    </tr>\n",
       "    <tr>\n",
       "      <th>1996</th>\n",
       "      <td>1996</td>\n",
       "      <td>Socio-political efficacy explains increase in ...</td>\n",
       "      <td>Taciano L Milfont,Danny Osborne,Chris G Sibley...</td>\n",
       "      <td>The ongoing COVID-19 pandemic claimed millions...</td>\n",
       "      <td>1</td>\n",
       "      <td>tmp</td>\n",
       "    </tr>\n",
       "    <tr>\n",
       "      <th>1997</th>\n",
       "      <td>1997</td>\n",
       "      <td>Investigation of early puberty prevalence and ...</td>\n",
       "      <td>Esin Gizem Olgun,Sirmen Kizilcan Cetin,Zeynep ...</td>\n",
       "      <td>We aimed to determine the prevalence of early ...</td>\n",
       "      <td>1</td>\n",
       "      <td>tmp</td>\n",
       "    </tr>\n",
       "    <tr>\n",
       "      <th>1998</th>\n",
       "      <td>1998</td>\n",
       "      <td>From 3D printing to 3D bioprinting: the materi...</td>\n",
       "      <td>Nihal Engin Vrana,Sharda Gupta,Kunal Mitra,Alb...</td>\n",
       "      <td>The application of 3D printing technologies fi...</td>\n",
       "      <td>1</td>\n",
       "      <td>tmp</td>\n",
       "    </tr>\n",
       "    <tr>\n",
       "      <th>1999</th>\n",
       "      <td>1999</td>\n",
       "      <td>Effect of Processing on the Structure and Alle...</td>\n",
       "      <td>Xuejiao Chang,Xiaoya Zhou,Yu Tang,Ying Zhang,J...</td>\n",
       "      <td>Peanut allergy is the leading pediatric food a...</td>\n",
       "      <td>1</td>\n",
       "      <td>tmp</td>\n",
       "    </tr>\n",
       "  </tbody>\n",
       "</table>\n",
       "<p>2000 rows × 6 columns</p>\n",
       "</div>"
      ],
      "text/plain": [
       "      uuid                                              title   \n",
       "0        0  Tobacco Consumption and High-Sensitivity Cardi...  \\\n",
       "1        1  Approaching towards sustainable supply chain u...   \n",
       "2        2  Does globalization matter for ecological footp...   \n",
       "3        3  Myths and Misconceptions About University Stud...   \n",
       "4        4  Antioxidant Status of Rat Liver Mitochondria u...   \n",
       "...    ...                                                ...   \n",
       "1995  1995  The treatment of veterinary antibiotics in swi...   \n",
       "1996  1996  Socio-political efficacy explains increase in ...   \n",
       "1997  1997  Investigation of early puberty prevalence and ...   \n",
       "1998  1998  From 3D printing to 3D bioprinting: the materi...   \n",
       "1999  1999  Effect of Processing on the Structure and Alle...   \n",
       "\n",
       "                                                 author   \n",
       "0     Julia Brox Skranes,Magnus Nakrem Lyngbakken,Kr...  \\\n",
       "1     Mohammad Reza Seddigh,Sajjad Shokouhyar,Fateme...   \n",
       "2     Kirikkaleli, Dervis; Adebayo, Tomiwa Sunday; K...   \n",
       "3     Megan Paull,Kirsten Holmes,Maryam Omari,Debbie...   \n",
       "4     S I Khizrieva,R A Khalilov,A M Dzhafarova,V R ...   \n",
       "...                                                 ...   \n",
       "1995  Qian, Mengcheng; Yang, Linyan; Chen, Xingkui; ...   \n",
       "1996  Taciano L Milfont,Danny Osborne,Chris G Sibley...   \n",
       "1997  Esin Gizem Olgun,Sirmen Kizilcan Cetin,Zeynep ...   \n",
       "1998  Nihal Engin Vrana,Sharda Gupta,Kunal Mitra,Alb...   \n",
       "1999  Xuejiao Chang,Xiaoya Zhou,Yu Tang,Ying Zhang,J...   \n",
       "\n",
       "                                               abstract  label Keywords  \n",
       "0     Background Cardiac troponins represent a sensi...      1      tmp  \n",
       "1     These two main objectives of this study are to...      1      tmp  \n",
       "2     The main aim of this paper is to explore the r...      0      tmp  \n",
       "3     This paper examines myths and misconceptions a...      1      tmp  \n",
       "4     For evaluation of the contribution of the anti...      1      tmp  \n",
       "...                                                 ...    ...      ...  \n",
       "1995  Elevated concentrations and potential toxiciti...      0      tmp  \n",
       "1996  The ongoing COVID-19 pandemic claimed millions...      1      tmp  \n",
       "1997  We aimed to determine the prevalence of early ...      1      tmp  \n",
       "1998  The application of 3D printing technologies fi...      1      tmp  \n",
       "1999  Peanut allergy is the leading pediatric food a...      1      tmp  \n",
       "\n",
       "[2000 rows x 6 columns]"
      ]
     },
     "execution_count": 16,
     "metadata": {},
     "output_type": "execute_result"
    }
   ],
   "source": [
    "testB_df"
   ]
  },
  {
   "cell_type": "code",
   "execution_count": 17,
   "id": "cf28458f-77fa-4f2b-8a75-fad16bbf3888",
   "metadata": {
    "ExecutionIndicator": {
     "show": true
    },
    "execution": {
     "iopub.execute_input": "2023-08-08T12:56:46.314320Z",
     "iopub.status.busy": "2023-08-08T12:56:46.313566Z",
     "iopub.status.idle": "2023-08-08T12:56:46.319400Z",
     "shell.execute_reply": "2023-08-08T12:56:46.318530Z",
     "shell.execute_reply.started": "2023-08-08T12:56:46.314286Z"
    },
    "tags": []
   },
   "outputs": [],
   "source": [
    "submit = testB_df[['uuid', 'Keywords', 'label']]"
   ]
  },
  {
   "cell_type": "code",
   "execution_count": 18,
   "id": "ac133a35-a8d3-4be8-8c4f-68520c513368",
   "metadata": {
    "execution": {
     "iopub.execute_input": "2023-08-08T12:56:48.257540Z",
     "iopub.status.busy": "2023-08-08T12:56:48.256658Z",
     "iopub.status.idle": "2023-08-08T12:56:48.267583Z",
     "shell.execute_reply": "2023-08-08T12:56:48.266838Z",
     "shell.execute_reply.started": "2023-08-08T12:56:48.257501Z"
    },
    "tags": []
   },
   "outputs": [
    {
     "data": {
      "text/html": [
       "<div>\n",
       "<style scoped>\n",
       "    .dataframe tbody tr th:only-of-type {\n",
       "        vertical-align: middle;\n",
       "    }\n",
       "\n",
       "    .dataframe tbody tr th {\n",
       "        vertical-align: top;\n",
       "    }\n",
       "\n",
       "    .dataframe thead th {\n",
       "        text-align: right;\n",
       "    }\n",
       "</style>\n",
       "<table border=\"1\" class=\"dataframe\">\n",
       "  <thead>\n",
       "    <tr style=\"text-align: right;\">\n",
       "      <th></th>\n",
       "      <th>uuid</th>\n",
       "      <th>Keywords</th>\n",
       "      <th>label</th>\n",
       "    </tr>\n",
       "  </thead>\n",
       "  <tbody>\n",
       "    <tr>\n",
       "      <th>0</th>\n",
       "      <td>0</td>\n",
       "      <td>tmp</td>\n",
       "      <td>1</td>\n",
       "    </tr>\n",
       "    <tr>\n",
       "      <th>1</th>\n",
       "      <td>1</td>\n",
       "      <td>tmp</td>\n",
       "      <td>1</td>\n",
       "    </tr>\n",
       "    <tr>\n",
       "      <th>2</th>\n",
       "      <td>2</td>\n",
       "      <td>tmp</td>\n",
       "      <td>0</td>\n",
       "    </tr>\n",
       "    <tr>\n",
       "      <th>3</th>\n",
       "      <td>3</td>\n",
       "      <td>tmp</td>\n",
       "      <td>1</td>\n",
       "    </tr>\n",
       "    <tr>\n",
       "      <th>4</th>\n",
       "      <td>4</td>\n",
       "      <td>tmp</td>\n",
       "      <td>1</td>\n",
       "    </tr>\n",
       "    <tr>\n",
       "      <th>...</th>\n",
       "      <td>...</td>\n",
       "      <td>...</td>\n",
       "      <td>...</td>\n",
       "    </tr>\n",
       "    <tr>\n",
       "      <th>1995</th>\n",
       "      <td>1995</td>\n",
       "      <td>tmp</td>\n",
       "      <td>0</td>\n",
       "    </tr>\n",
       "    <tr>\n",
       "      <th>1996</th>\n",
       "      <td>1996</td>\n",
       "      <td>tmp</td>\n",
       "      <td>1</td>\n",
       "    </tr>\n",
       "    <tr>\n",
       "      <th>1997</th>\n",
       "      <td>1997</td>\n",
       "      <td>tmp</td>\n",
       "      <td>1</td>\n",
       "    </tr>\n",
       "    <tr>\n",
       "      <th>1998</th>\n",
       "      <td>1998</td>\n",
       "      <td>tmp</td>\n",
       "      <td>1</td>\n",
       "    </tr>\n",
       "    <tr>\n",
       "      <th>1999</th>\n",
       "      <td>1999</td>\n",
       "      <td>tmp</td>\n",
       "      <td>1</td>\n",
       "    </tr>\n",
       "  </tbody>\n",
       "</table>\n",
       "<p>2000 rows × 3 columns</p>\n",
       "</div>"
      ],
      "text/plain": [
       "      uuid Keywords  label\n",
       "0        0      tmp      1\n",
       "1        1      tmp      1\n",
       "2        2      tmp      0\n",
       "3        3      tmp      1\n",
       "4        4      tmp      1\n",
       "...    ...      ...    ...\n",
       "1995  1995      tmp      0\n",
       "1996  1996      tmp      1\n",
       "1997  1997      tmp      1\n",
       "1998  1998      tmp      1\n",
       "1999  1999      tmp      1\n",
       "\n",
       "[2000 rows x 3 columns]"
      ]
     },
     "execution_count": 18,
     "metadata": {},
     "output_type": "execute_result"
    }
   ],
   "source": [
    "submit"
   ]
  },
  {
   "cell_type": "code",
   "execution_count": 19,
   "id": "dfa1a801-39da-4e71-94c0-b4ed67cab4d6",
   "metadata": {
    "execution": {
     "iopub.execute_input": "2023-08-08T12:56:51.438451Z",
     "iopub.status.busy": "2023-08-08T12:56:51.437498Z",
     "iopub.status.idle": "2023-08-08T12:56:51.445960Z",
     "shell.execute_reply": "2023-08-08T12:56:51.445176Z",
     "shell.execute_reply.started": "2023-08-08T12:56:51.438411Z"
    },
    "tags": []
   },
   "outputs": [],
   "source": [
    "submit.to_csv('submit.csv', index=False)"
   ]
  }
 ],
 "metadata": {
  "kernelspec": {
   "display_name": "Python 3 (ipykernel)",
   "language": "python",
   "name": "python3"
  },
  "language_info": {
   "codemirror_mode": {
    "name": "ipython",
    "version": 3
   },
   "file_extension": ".py",
   "mimetype": "text/x-python",
   "name": "python",
   "nbconvert_exporter": "python",
   "pygments_lexer": "ipython3",
   "version": "3.9.15"
  }
 },
 "nbformat": 4,
 "nbformat_minor": 5
}
