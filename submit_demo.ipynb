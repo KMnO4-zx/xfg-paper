{
 "cells": [
  {
   "cell_type": "markdown",
   "id": "f9bd6e39-ede7-4375-b5c6-67cadea12e93",
   "metadata": {},
   "source": [
    "# 微调大模型:ChatGLM2-6B 进行二分类任务"
   ]
  },
  {
   "cell_type": "markdown",
   "id": "4c51c09f-f527-43c9-a8b5-e2f874706003",
   "metadata": {},
   "source": [
    "## 导入数据"
   ]
  },
  {
   "cell_type": "code",
   "execution_count": 1,
   "id": "bb645733",
   "metadata": {
    "execution": {
     "iopub.execute_input": "2023-07-27T12:19:55.815357Z",
     "iopub.status.busy": "2023-07-27T12:19:55.814917Z",
     "iopub.status.idle": "2023-07-27T12:19:56.133813Z",
     "shell.execute_reply": "2023-07-27T12:19:56.133142Z",
     "shell.execute_reply.started": "2023-07-27T12:19:55.815330Z"
    },
    "tags": []
   },
   "outputs": [],
   "source": [
    "import pandas as pd"
   ]
  },
  {
   "cell_type": "code",
   "execution_count": 2,
   "id": "b1248555",
   "metadata": {
    "ExecutionIndicator": {
     "show": true
    },
    "execution": {
     "iopub.execute_input": "2023-07-27T12:20:06.792955Z",
     "iopub.status.busy": "2023-07-27T12:20:06.792409Z",
     "iopub.status.idle": "2023-07-27T12:20:06.972950Z",
     "shell.execute_reply": "2023-07-27T12:20:06.972257Z",
     "shell.execute_reply.started": "2023-07-27T12:20:06.792924Z"
    },
    "tags": []
   },
   "outputs": [],
   "source": [
    "train_df = pd.read_csv('./csv_data/train.csv')\n",
    "testB_df = pd.read_csv('./csv_data/testB.csv')"
   ]
  },
  {
   "cell_type": "code",
   "execution_count": 3,
   "id": "6839b8ac",
   "metadata": {
    "execution": {
     "iopub.execute_input": "2023-07-27T12:20:09.737378Z",
     "iopub.status.busy": "2023-07-27T12:20:09.736938Z",
     "iopub.status.idle": "2023-07-27T12:20:09.762523Z",
     "shell.execute_reply": "2023-07-27T12:20:09.761887Z",
     "shell.execute_reply.started": "2023-07-27T12:20:09.737351Z"
    },
    "tags": []
   },
   "outputs": [
    {
     "name": "stdout",
     "output_type": "stream",
     "text": [
      "<class 'pandas.core.frame.DataFrame'>\n",
      "RangeIndex: 6000 entries, 0 to 5999\n",
      "Data columns (total 6 columns):\n",
      " #   Column    Non-Null Count  Dtype \n",
      "---  ------    --------------  ----- \n",
      " 0   uuid      6000 non-null   int64 \n",
      " 1   title     6000 non-null   object\n",
      " 2   author    6000 non-null   object\n",
      " 3   abstract  6000 non-null   object\n",
      " 4   Keywords  6000 non-null   object\n",
      " 5   label     6000 non-null   int64 \n",
      "dtypes: int64(2), object(4)\n",
      "memory usage: 281.4+ KB\n"
     ]
    }
   ],
   "source": [
    "train_df.info()"
   ]
  },
  {
   "cell_type": "markdown",
   "id": "f50fe438-88f2-4506-b738-c86fa54c0e4e",
   "metadata": {},
   "source": [
    "## 制作数据集"
   ]
  },
  {
   "cell_type": "code",
   "execution_count": 5,
   "id": "a69b8730",
   "metadata": {
    "ExecutionIndicator": {
     "show": true
    },
    "execution": {
     "iopub.execute_input": "2023-07-27T12:22:26.043760Z",
     "iopub.status.busy": "2023-07-27T12:22:26.043294Z",
     "iopub.status.idle": "2023-07-27T12:22:26.500369Z",
     "shell.execute_reply": "2023-07-27T12:22:26.499688Z",
     "shell.execute_reply.started": "2023-07-27T12:22:26.043732Z"
    },
    "tags": []
   },
   "outputs": [],
   "source": [
    "res = []\n",
    "\n",
    "for i in range(len(train_df)):\n",
    "    paper_item = train_df.loc[i]\n",
    "    tmp = {\n",
    "    \"instruction\": \"Please judge whether it is a medical field paper according to the given paper title and abstract, output 1 or 0, the following is the paper title and abstract -->\",\n",
    "    \"input\": f\"title:{paper_item[1]},abstract:{paper_item[3]}\",\n",
    "    \"output\": str(paper_item[5])\n",
    "  }\n",
    "    res.append(tmp)"
   ]
  },
  {
   "cell_type": "code",
   "execution_count": 6,
   "id": "ba3b5176",
   "metadata": {
    "ExecutionIndicator": {
     "show": true
    },
    "execution": {
     "iopub.execute_input": "2023-07-27T12:23:30.168968Z",
     "iopub.status.busy": "2023-07-27T12:23:30.168513Z",
     "iopub.status.idle": "2023-07-27T12:23:30.304074Z",
     "shell.execute_reply": "2023-07-27T12:23:30.303377Z",
     "shell.execute_reply.started": "2023-07-27T12:23:30.168942Z"
    },
    "tags": []
   },
   "outputs": [],
   "source": [
    "import json\n",
    "\n",
    "with open('./data/paper_label.json', mode='w', encoding='utf-8') as f:\n",
    "    json.dump(res, f, ensure_ascii=False, indent=4)"
   ]
  },
  {
   "cell_type": "markdown",
   "id": "f1b69623-b1fa-4824-93a9-cb47e3f89361",
   "metadata": {},
   "source": [
    "## 微调chatglm2-6b"
   ]
  },
  {
   "cell_type": "markdown",
   "id": "180c8b99-68b5-44f4-8fe0-b7fdd1715235",
   "metadata": {},
   "source": [
    "- 首先需要clone微调脚本：`git clone https://github.com/KMnO4-zx/xfg-paper.git`\n",
    "- 进入目录安装环境：`cd ./xfg-paper`；`pip install -r requirements.txt `\n",
    "- 将脚本中的`model_name_or_path`更换为你本地的chatglm2-6b模型路径，然后运行脚本：`sh xfg_train.sh`\n",
    "\n",
    "微调过程大概需要两个小时（我使用了阿里云A10-24G运行了两个小时左右），微调过程需要16G的显存，推荐使用24G显存的显卡，比如3090，4090等。\n",
    "\n",
    "当然，我已经把训练好的lora权重放在了仓库里，您可以直接运行下面的代码。"
   ]
  },
  {
   "cell_type": "markdown",
   "id": "07e082ca-8039-418b-a294-e2eda89d3c1b",
   "metadata": {},
   "source": [
    "## 加载训练好的LoRA权重，进行预测"
   ]
  },
  {
   "cell_type": "code",
   "execution_count": 8,
   "id": "18c992d2-bdd4-4a80-9532-6497682983ea",
   "metadata": {
    "ExecutionIndicator": {
     "show": true
    },
    "execution": {
     "iopub.execute_input": "2023-07-27T12:32:45.605700Z",
     "iopub.status.busy": "2023-07-27T12:32:45.605228Z",
     "iopub.status.idle": "2023-07-27T12:33:15.507982Z",
     "shell.execute_reply": "2023-07-27T12:33:15.507218Z",
     "shell.execute_reply.started": "2023-07-27T12:32:45.605671Z"
    },
    "tags": []
   },
   "outputs": [
    {
     "name": "stderr",
     "output_type": "stream",
     "text": [
      "Explicitly passing a `revision` is encouraged when loading a configuration with custom code to ensure no malicious code has been contributed in a newer revision.\n",
      "Explicitly passing a `revision` is encouraged when loading a model with custom code to ensure no malicious code has been contributed in a newer revision.\n"
     ]
    },
    {
     "data": {
      "application/vnd.jupyter.widget-view+json": {
       "model_id": "2c3c89bc060c421ba4cd9117f6e3ac2e",
       "version_major": 2,
       "version_minor": 0
      },
      "text/plain": [
       "Loading checkpoint shards:   0%|          | 0/7 [00:00<?, ?it/s]"
      ]
     },
     "metadata": {},
     "output_type": "display_data"
    },
    {
     "name": "stderr",
     "output_type": "stream",
     "text": [
      "Explicitly passing a `revision` is encouraged when loading a model with custom code to ensure no malicious code has been contributed in a newer revision.\n"
     ]
    },
    {
     "data": {
      "text/plain": [
       "'你好👋！我是人工智能助手 ChatGLM2-6B，很高兴见到你，欢迎问我任何问题。'"
      ]
     },
     "execution_count": 8,
     "metadata": {},
     "output_type": "execute_result"
    }
   ],
   "source": [
    "from peft import PeftModel\n",
    "from transformers import AutoTokenizer, AutoModel, GenerationConfig, AutoModelForCausalLM\n",
    "\n",
    "model_path = \"../chatglm2-6b\"\n",
    "model = AutoModel.from_pretrained(model_path, trust_remote_code=True).half().cuda()\n",
    "tokenizer = AutoTokenizer.from_pretrained(model_path, trust_remote_code=True)\n",
    "# 加载 label lora权重\n",
    "model = PeftModel.from_pretrained(model, './output/label_xfg').half()\n",
    "model = model.eval()\n",
    "response, history = model.chat(tokenizer, \"你好\", history=[])\n",
    "response"
   ]
  },
  {
   "cell_type": "code",
   "execution_count": 9,
   "id": "af5bb46b-4f17-4925-a8cb-959411bd9287",
   "metadata": {
    "ExecutionIndicator": {
     "show": true
    },
    "execution": {
     "iopub.execute_input": "2023-07-27T12:34:47.207494Z",
     "iopub.status.busy": "2023-07-27T12:34:47.206819Z",
     "iopub.status.idle": "2023-07-27T12:34:47.212031Z",
     "shell.execute_reply": "2023-07-27T12:34:47.211083Z",
     "shell.execute_reply.started": "2023-07-27T12:34:47.207460Z"
    },
    "tags": []
   },
   "outputs": [],
   "source": [
    "# 预测函数\n",
    "\n",
    "def predict(text):\n",
    "    response, history = model.chat(tokenizer, f\"Please judge whether it is a medical field paper according to the given paper title and abstract, output 1 or 0, the following is the paper title, author and abstract -->{text}\", history=[],\n",
    "    temperature=0.01)\n",
    "    return response"
   ]
  },
  {
   "cell_type": "code",
   "execution_count": 10,
   "id": "9be0c2fe-0538-4675-8c68-a7b56dd4f351",
   "metadata": {
    "ExecutionIndicator": {
     "show": true
    },
    "execution": {
     "iopub.execute_input": "2023-07-27T12:34:54.440447Z",
     "iopub.status.busy": "2023-07-27T12:34:54.439843Z",
     "iopub.status.idle": "2023-07-27T12:34:54.640211Z",
     "shell.execute_reply": "2023-07-27T12:34:54.639480Z",
     "shell.execute_reply.started": "2023-07-27T12:34:54.440411Z"
    },
    "tags": []
   },
   "outputs": [
    {
     "data": {
      "text/plain": [
       "'1'"
      ]
     },
     "execution_count": 10,
     "metadata": {},
     "output_type": "execute_result"
    }
   ],
   "source": [
    "predict('title:Seizure Detection and Prediction by Parallel Memristive Convolutional Neural Networks,author:Li, Chenqi; Lammie, Corey; Dong, Xuening; Amirsoleimani, Amirali; Azghadi, Mostafa Rahimi; Genov, Roman,abstract:During the past two decades, epileptic seizure detection and prediction algorithms have evolved rapidly. However, despite significant performance improvements, their hardware implementation using conventional technologies, such as Complementary Metal-Oxide-Semiconductor (CMOS), in power and areaconstrained settings remains a challenging task; especially when many recording channels are used. In this paper, we propose a novel low-latency parallel Convolutional Neural Network (CNN) architecture that has between 2-2,800x fewer network parameters compared to State-Of-The-Art (SOTA) CNN architectures and achieves 5-fold cross validation accuracy of 99.84% for epileptic seizure detection, and 99.01% and 97.54% for epileptic seizure prediction, when evaluated using the University of Bonn Electroencephalogram (EEG), CHB-MIT and SWEC-ETHZ seizure datasets, respectively. We subsequently implement our network onto analog crossbar arrays comprising Resistive Random-Access Memory (RRAM) devices, and provide a comprehensive benchmark by simulating, laying out, and determining hardware requirements of theCNNcomponent of our system. We parallelize the execution of convolution layer kernels on separate analog crossbars to enable 2 orders of magnitude reduction in latency compared to SOTA hybrid Memristive-CMOS Deep Learning (DL) accelerators. Furthermore, we investigate the effects of non-idealities on our system and investigate Quantization Aware Training (QAT) to mitigate the performance degradation due to lowAnalog-to-Digital Converter (ADC)/Digital-to-Analog Converter (DAC) resolution. Finally, we propose a stuck weight offsetting methodology to mitigate performance degradation due to stuck RON/ROFF memristor weights, recovering up to 32% accuracy, without requiring retraining. The CNN component of our platform is estimated to consume approximately 2.791Wof power while occupying an area of 31.255 mm(2) in a 22 nm FDSOI CMOS process.')"
   ]
  },
  {
   "cell_type": "code",
   "execution_count": 11,
   "id": "facc2fe1-fb75-4246-af65-d642fa5701c3",
   "metadata": {
    "ExecutionIndicator": {
     "show": true
    },
    "execution": {
     "iopub.execute_input": "2023-07-27T12:36:08.743878Z",
     "iopub.status.busy": "2023-07-27T12:36:08.743407Z",
     "iopub.status.idle": "2023-07-27T12:42:13.199300Z",
     "shell.execute_reply": "2023-07-27T12:42:13.198648Z",
     "shell.execute_reply.started": "2023-07-27T12:36:08.743851Z"
    },
    "tags": []
   },
   "outputs": [
    {
     "name": "stderr",
     "output_type": "stream",
     "text": [
      "100%|██████████| 2358/2358 [06:04<00:00,  6.47it/s]\n"
     ]
    }
   ],
   "source": [
    "# 预测测试集\n",
    "\n",
    "from tqdm import tqdm\n",
    "\n",
    "label = []\n",
    "\n",
    "for i in tqdm(range(len(testB_df))):\n",
    "    test_item = testB_df.loc[i]\n",
    "    test_input = f\"title:{test_item[1]},author:{test_item[2]},abstract:{test_item[3]}\"\n",
    "    label.append(int(predict(test_input)))\n"
   ]
  },
  {
   "cell_type": "code",
   "execution_count": 12,
   "id": "03932b51-6417-4a83-8754-dcb73e5a3051",
   "metadata": {
    "ExecutionIndicator": {
     "show": true
    },
    "execution": {
     "iopub.execute_input": "2023-07-27T12:42:36.008292Z",
     "iopub.status.busy": "2023-07-27T12:42:36.007822Z",
     "iopub.status.idle": "2023-07-27T12:42:36.013685Z",
     "shell.execute_reply": "2023-07-27T12:42:36.012840Z",
     "shell.execute_reply.started": "2023-07-27T12:42:36.008265Z"
    },
    "tags": []
   },
   "outputs": [],
   "source": [
    "testB_df['label'] = label"
   ]
  },
  {
   "cell_type": "code",
   "execution_count": 13,
   "id": "b85584e5-d4e3-493c-b5fb-843412c4dd1d",
   "metadata": {
    "execution": {
     "iopub.execute_input": "2023-07-27T12:42:38.420826Z",
     "iopub.status.busy": "2023-07-27T12:42:38.420357Z",
     "iopub.status.idle": "2023-07-27T12:42:38.433657Z",
     "shell.execute_reply": "2023-07-27T12:42:38.432984Z",
     "shell.execute_reply.started": "2023-07-27T12:42:38.420799Z"
    },
    "tags": []
   },
   "outputs": [
    {
     "data": {
      "text/html": [
       "<div>\n",
       "<style scoped>\n",
       "    .dataframe tbody tr th:only-of-type {\n",
       "        vertical-align: middle;\n",
       "    }\n",
       "\n",
       "    .dataframe tbody tr th {\n",
       "        vertical-align: top;\n",
       "    }\n",
       "\n",
       "    .dataframe thead th {\n",
       "        text-align: right;\n",
       "    }\n",
       "</style>\n",
       "<table border=\"1\" class=\"dataframe\">\n",
       "  <thead>\n",
       "    <tr style=\"text-align: right;\">\n",
       "      <th></th>\n",
       "      <th>uuid</th>\n",
       "      <th>title</th>\n",
       "      <th>author</th>\n",
       "      <th>abstract</th>\n",
       "      <th>Keywords</th>\n",
       "      <th>label</th>\n",
       "    </tr>\n",
       "  </thead>\n",
       "  <tbody>\n",
       "    <tr>\n",
       "      <th>0</th>\n",
       "      <td>0</td>\n",
       "      <td>Monitoring Changes in Intracellular Reactive O...</td>\n",
       "      <td>Al-Hassan M Mustafa,Ramy Ashry,Oliver H Krämer...</td>\n",
       "      <td>Reactive oxygen species (ROS) are induced by s...</td>\n",
       "      <td>Flow cytometry; HDACi; Leukemia; ROS.</td>\n",
       "      <td>1</td>\n",
       "    </tr>\n",
       "    <tr>\n",
       "      <th>1</th>\n",
       "      <td>1</td>\n",
       "      <td>Source Printer Classification Using Printer Sp...</td>\n",
       "      <td>Joshi, Sharad; Khanna, Nitin</td>\n",
       "      <td>The knowledge of the source printer can help i...</td>\n",
       "      <td>Printer classification; local texture patterns...</td>\n",
       "      <td>0</td>\n",
       "    </tr>\n",
       "    <tr>\n",
       "      <th>2</th>\n",
       "      <td>2</td>\n",
       "      <td>Plasma-processed CoSn/RGO nanocomposite: A low...</td>\n",
       "      <td>Omelianovych, Oleksii; Larina, Liudmila L.; Oh...</td>\n",
       "      <td>The high cost of state-of-the-art Pt counter e...</td>\n",
       "      <td>Plasma reduction; Bimatalic alloy CoxSn1-x; Re...</td>\n",
       "      <td>0</td>\n",
       "    </tr>\n",
       "    <tr>\n",
       "      <th>3</th>\n",
       "      <td>3</td>\n",
       "      <td>Immediate Antiretroviral Therapy: The Need for...</td>\n",
       "      <td>Mgbako, Ofole; E. Sobieszczyk, Magdalena; Olen...</td>\n",
       "      <td>Immediate antiretroviral therapy (iART), defin...</td>\n",
       "      <td>HIV; antiretroviral therapy; rapid; health equity</td>\n",
       "      <td>0</td>\n",
       "    </tr>\n",
       "    <tr>\n",
       "      <th>4</th>\n",
       "      <td>4</td>\n",
       "      <td>Design and analysis of an ultra-low-power LC q...</td>\n",
       "      <td>Lee, Kin Keung; Bryant, Carl; Tormanen, Markus...</td>\n",
       "      <td>This paper presents the design of an ultra-low...</td>\n",
       "      <td>Varactor; Spiral inductor; Quadrature generati...</td>\n",
       "      <td>0</td>\n",
       "    </tr>\n",
       "    <tr>\n",
       "      <th>...</th>\n",
       "      <td>...</td>\n",
       "      <td>...</td>\n",
       "      <td>...</td>\n",
       "      <td>...</td>\n",
       "      <td>...</td>\n",
       "      <td>...</td>\n",
       "    </tr>\n",
       "    <tr>\n",
       "      <th>2353</th>\n",
       "      <td>2353</td>\n",
       "      <td>Semi-Supervised Medical Image Classification W...</td>\n",
       "      <td>Liu, Quande; Yu, Lequan; Luo, Luyang; Dou, Qi;...</td>\n",
       "      <td>Training deep neural networks usually requires...</td>\n",
       "      <td>Semi-supervised learning; medical image classi...</td>\n",
       "      <td>1</td>\n",
       "    </tr>\n",
       "    <tr>\n",
       "      <th>2354</th>\n",
       "      <td>2354</td>\n",
       "      <td>Acoustic Traffic Event Detection in Long Tunne...</td>\n",
       "      <td>Zhang, Xiaodan; Chen, Yongsheng; Liu, Miaomiao...</td>\n",
       "      <td>In this paper, we study the traffic event dete...</td>\n",
       "      <td>Acoustic feature; Traffic events; Convolutiona...</td>\n",
       "      <td>0</td>\n",
       "    </tr>\n",
       "    <tr>\n",
       "      <th>2355</th>\n",
       "      <td>2355</td>\n",
       "      <td>Deep Learning Models for Long-Term Solar Radia...</td>\n",
       "      <td>Aslam, Muhammad; Lee, Jae-Myeong; Kim, Hyung-S...</td>\n",
       "      <td>Microgrid is becoming an essential part of the...</td>\n",
       "      <td>deep learning; microgrid; renewable energy; so...</td>\n",
       "      <td>0</td>\n",
       "    </tr>\n",
       "    <tr>\n",
       "      <th>2356</th>\n",
       "      <td>2356</td>\n",
       "      <td>Analysis Co-Sparse Coding for Energy Disaggreg...</td>\n",
       "      <td>Singh, Shikha; Majumdar, Angshul</td>\n",
       "      <td>Energy disaggregation is the task of segregati...</td>\n",
       "      <td>Energy disaggregation; non-intrusive load moni...</td>\n",
       "      <td>0</td>\n",
       "    </tr>\n",
       "    <tr>\n",
       "      <th>2357</th>\n",
       "      <td>2357</td>\n",
       "      <td>Point Set Registration Using Havrda-Charvat-Ts...</td>\n",
       "      <td>Tustison, Nicholas J.; Awate, Suyash P.; Song,...</td>\n",
       "      <td>We introduce a labeled point set registration ...</td>\n",
       "      <td>Directly manipulated free-form deformation; Je...</td>\n",
       "      <td>1</td>\n",
       "    </tr>\n",
       "  </tbody>\n",
       "</table>\n",
       "<p>2358 rows × 6 columns</p>\n",
       "</div>"
      ],
      "text/plain": [
       "      uuid                                              title   \n",
       "0        0  Monitoring Changes in Intracellular Reactive O...  \\\n",
       "1        1  Source Printer Classification Using Printer Sp...   \n",
       "2        2  Plasma-processed CoSn/RGO nanocomposite: A low...   \n",
       "3        3  Immediate Antiretroviral Therapy: The Need for...   \n",
       "4        4  Design and analysis of an ultra-low-power LC q...   \n",
       "...    ...                                                ...   \n",
       "2353  2353  Semi-Supervised Medical Image Classification W...   \n",
       "2354  2354  Acoustic Traffic Event Detection in Long Tunne...   \n",
       "2355  2355  Deep Learning Models for Long-Term Solar Radia...   \n",
       "2356  2356  Analysis Co-Sparse Coding for Energy Disaggreg...   \n",
       "2357  2357  Point Set Registration Using Havrda-Charvat-Ts...   \n",
       "\n",
       "                                                 author   \n",
       "0     Al-Hassan M Mustafa,Ramy Ashry,Oliver H Krämer...  \\\n",
       "1                          Joshi, Sharad; Khanna, Nitin   \n",
       "2     Omelianovych, Oleksii; Larina, Liudmila L.; Oh...   \n",
       "3     Mgbako, Ofole; E. Sobieszczyk, Magdalena; Olen...   \n",
       "4     Lee, Kin Keung; Bryant, Carl; Tormanen, Markus...   \n",
       "...                                                 ...   \n",
       "2353  Liu, Quande; Yu, Lequan; Luo, Luyang; Dou, Qi;...   \n",
       "2354  Zhang, Xiaodan; Chen, Yongsheng; Liu, Miaomiao...   \n",
       "2355  Aslam, Muhammad; Lee, Jae-Myeong; Kim, Hyung-S...   \n",
       "2356                   Singh, Shikha; Majumdar, Angshul   \n",
       "2357  Tustison, Nicholas J.; Awate, Suyash P.; Song,...   \n",
       "\n",
       "                                               abstract   \n",
       "0     Reactive oxygen species (ROS) are induced by s...  \\\n",
       "1     The knowledge of the source printer can help i...   \n",
       "2     The high cost of state-of-the-art Pt counter e...   \n",
       "3     Immediate antiretroviral therapy (iART), defin...   \n",
       "4     This paper presents the design of an ultra-low...   \n",
       "...                                                 ...   \n",
       "2353  Training deep neural networks usually requires...   \n",
       "2354  In this paper, we study the traffic event dete...   \n",
       "2355  Microgrid is becoming an essential part of the...   \n",
       "2356  Energy disaggregation is the task of segregati...   \n",
       "2357  We introduce a labeled point set registration ...   \n",
       "\n",
       "                                               Keywords  label  \n",
       "0                 Flow cytometry; HDACi; Leukemia; ROS.      1  \n",
       "1     Printer classification; local texture patterns...      0  \n",
       "2     Plasma reduction; Bimatalic alloy CoxSn1-x; Re...      0  \n",
       "3     HIV; antiretroviral therapy; rapid; health equity      0  \n",
       "4     Varactor; Spiral inductor; Quadrature generati...      0  \n",
       "...                                                 ...    ...  \n",
       "2353  Semi-supervised learning; medical image classi...      1  \n",
       "2354  Acoustic feature; Traffic events; Convolutiona...      0  \n",
       "2355  deep learning; microgrid; renewable energy; so...      0  \n",
       "2356  Energy disaggregation; non-intrusive load moni...      0  \n",
       "2357  Directly manipulated free-form deformation; Je...      1  \n",
       "\n",
       "[2358 rows x 6 columns]"
      ]
     },
     "execution_count": 13,
     "metadata": {},
     "output_type": "execute_result"
    }
   ],
   "source": [
    "testB_df"
   ]
  },
  {
   "cell_type": "code",
   "execution_count": 14,
   "id": "cf28458f-77fa-4f2b-8a75-fad16bbf3888",
   "metadata": {
    "ExecutionIndicator": {
     "show": true
    },
    "execution": {
     "iopub.execute_input": "2023-07-27T12:42:43.741838Z",
     "iopub.status.busy": "2023-07-27T12:42:43.741366Z",
     "iopub.status.idle": "2023-07-27T12:42:43.746828Z",
     "shell.execute_reply": "2023-07-27T12:42:43.746137Z",
     "shell.execute_reply.started": "2023-07-27T12:42:43.741808Z"
    },
    "tags": []
   },
   "outputs": [],
   "source": [
    "submit = testB_df[['uuid', 'label']]"
   ]
  },
  {
   "cell_type": "code",
   "execution_count": 15,
   "id": "ac133a35-a8d3-4be8-8c4f-68520c513368",
   "metadata": {
    "execution": {
     "iopub.execute_input": "2023-07-27T12:42:49.192526Z",
     "iopub.status.busy": "2023-07-27T12:42:49.191695Z",
     "iopub.status.idle": "2023-07-27T12:42:49.202046Z",
     "shell.execute_reply": "2023-07-27T12:42:49.201325Z",
     "shell.execute_reply.started": "2023-07-27T12:42:49.192490Z"
    },
    "tags": []
   },
   "outputs": [
    {
     "data": {
      "text/html": [
       "<div>\n",
       "<style scoped>\n",
       "    .dataframe tbody tr th:only-of-type {\n",
       "        vertical-align: middle;\n",
       "    }\n",
       "\n",
       "    .dataframe tbody tr th {\n",
       "        vertical-align: top;\n",
       "    }\n",
       "\n",
       "    .dataframe thead th {\n",
       "        text-align: right;\n",
       "    }\n",
       "</style>\n",
       "<table border=\"1\" class=\"dataframe\">\n",
       "  <thead>\n",
       "    <tr style=\"text-align: right;\">\n",
       "      <th></th>\n",
       "      <th>uuid</th>\n",
       "      <th>Keywords</th>\n",
       "      <th>label</th>\n",
       "    </tr>\n",
       "  </thead>\n",
       "  <tbody>\n",
       "    <tr>\n",
       "      <th>0</th>\n",
       "      <td>0</td>\n",
       "      <td>Flow cytometry; HDACi; Leukemia; ROS.</td>\n",
       "      <td>1</td>\n",
       "    </tr>\n",
       "    <tr>\n",
       "      <th>1</th>\n",
       "      <td>1</td>\n",
       "      <td>Printer classification; local texture patterns...</td>\n",
       "      <td>0</td>\n",
       "    </tr>\n",
       "    <tr>\n",
       "      <th>2</th>\n",
       "      <td>2</td>\n",
       "      <td>Plasma reduction; Bimatalic alloy CoxSn1-x; Re...</td>\n",
       "      <td>0</td>\n",
       "    </tr>\n",
       "    <tr>\n",
       "      <th>3</th>\n",
       "      <td>3</td>\n",
       "      <td>HIV; antiretroviral therapy; rapid; health equity</td>\n",
       "      <td>0</td>\n",
       "    </tr>\n",
       "    <tr>\n",
       "      <th>4</th>\n",
       "      <td>4</td>\n",
       "      <td>Varactor; Spiral inductor; Quadrature generati...</td>\n",
       "      <td>0</td>\n",
       "    </tr>\n",
       "    <tr>\n",
       "      <th>...</th>\n",
       "      <td>...</td>\n",
       "      <td>...</td>\n",
       "      <td>...</td>\n",
       "    </tr>\n",
       "    <tr>\n",
       "      <th>2353</th>\n",
       "      <td>2353</td>\n",
       "      <td>Semi-supervised learning; medical image classi...</td>\n",
       "      <td>1</td>\n",
       "    </tr>\n",
       "    <tr>\n",
       "      <th>2354</th>\n",
       "      <td>2354</td>\n",
       "      <td>Acoustic feature; Traffic events; Convolutiona...</td>\n",
       "      <td>0</td>\n",
       "    </tr>\n",
       "    <tr>\n",
       "      <th>2355</th>\n",
       "      <td>2355</td>\n",
       "      <td>deep learning; microgrid; renewable energy; so...</td>\n",
       "      <td>0</td>\n",
       "    </tr>\n",
       "    <tr>\n",
       "      <th>2356</th>\n",
       "      <td>2356</td>\n",
       "      <td>Energy disaggregation; non-intrusive load moni...</td>\n",
       "      <td>0</td>\n",
       "    </tr>\n",
       "    <tr>\n",
       "      <th>2357</th>\n",
       "      <td>2357</td>\n",
       "      <td>Directly manipulated free-form deformation; Je...</td>\n",
       "      <td>1</td>\n",
       "    </tr>\n",
       "  </tbody>\n",
       "</table>\n",
       "<p>2358 rows × 3 columns</p>\n",
       "</div>"
      ],
      "text/plain": [
       "      uuid                                           Keywords  label\n",
       "0        0              Flow cytometry; HDACi; Leukemia; ROS.      1\n",
       "1        1  Printer classification; local texture patterns...      0\n",
       "2        2  Plasma reduction; Bimatalic alloy CoxSn1-x; Re...      0\n",
       "3        3  HIV; antiretroviral therapy; rapid; health equity      0\n",
       "4        4  Varactor; Spiral inductor; Quadrature generati...      0\n",
       "...    ...                                                ...    ...\n",
       "2353  2353  Semi-supervised learning; medical image classi...      1\n",
       "2354  2354  Acoustic feature; Traffic events; Convolutiona...      0\n",
       "2355  2355  deep learning; microgrid; renewable energy; so...      0\n",
       "2356  2356  Energy disaggregation; non-intrusive load moni...      0\n",
       "2357  2357  Directly manipulated free-form deformation; Je...      1\n",
       "\n",
       "[2358 rows x 3 columns]"
      ]
     },
     "execution_count": 15,
     "metadata": {},
     "output_type": "execute_result"
    }
   ],
   "source": [
    "submit"
   ]
  },
  {
   "cell_type": "code",
   "execution_count": 16,
   "id": "dfa1a801-39da-4e71-94c0-b4ed67cab4d6",
   "metadata": {
    "execution": {
     "iopub.execute_input": "2023-07-27T12:42:53.847634Z",
     "iopub.status.busy": "2023-07-27T12:42:53.846803Z",
     "iopub.status.idle": "2023-07-27T12:42:53.860410Z",
     "shell.execute_reply": "2023-07-27T12:42:53.859735Z",
     "shell.execute_reply.started": "2023-07-27T12:42:53.847600Z"
    },
    "tags": []
   },
   "outputs": [],
   "source": [
    "submit.to_csv('submit.csv', index=False)"
   ]
  }
 ],
 "metadata": {
  "kernelspec": {
   "display_name": "gpt",
   "language": "python",
   "name": "gpt"
  },
  "language_info": {
   "codemirror_mode": {
    "name": "ipython",
    "version": 3
   },
   "file_extension": ".py",
   "mimetype": "text/x-python",
   "name": "python",
   "nbconvert_exporter": "python",
   "pygments_lexer": "ipython3",
   "version": "3.8.17"
  }
 },
 "nbformat": 4,
 "nbformat_minor": 5
}
